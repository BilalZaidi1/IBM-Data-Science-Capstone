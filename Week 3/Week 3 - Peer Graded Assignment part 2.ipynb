{
    "cells": [
        {
            "metadata": {},
            "cell_type": "markdown",
            "source": "# Applied Data Science by IBM"
        },
        {
            "metadata": {},
            "cell_type": "markdown",
            "source": "## Capstone project"
        },
        {
            "metadata": {},
            "cell_type": "code",
            "source": "#Install beautifulsoup\n#!pip install beautifulsoup4\n!pip install pgeocode",
            "execution_count": 1,
            "outputs": [
                {
                    "output_type": "stream",
                    "text": "/opt/conda/envs/Python-3.7-main/lib/python3.7/site-packages/secretstorage/dhcrypto.py:16: CryptographyDeprecationWarning: int_from_bytes is deprecated, use int.from_bytes instead\n  from cryptography.utils import int_from_bytes\n/opt/conda/envs/Python-3.7-main/lib/python3.7/site-packages/secretstorage/util.py:25: CryptographyDeprecationWarning: int_from_bytes is deprecated, use int.from_bytes instead\n  from cryptography.utils import int_from_bytes\nRequirement already satisfied: pgeocode in /opt/conda/envs/Python-3.7-main/lib/python3.7/site-packages (0.3.0)\nRequirement already satisfied: numpy in /opt/conda/envs/Python-3.7-main/lib/python3.7/site-packages (from pgeocode) (1.18.5)\nRequirement already satisfied: pandas in /opt/conda/envs/Python-3.7-main/lib/python3.7/site-packages (from pgeocode) (1.0.5)\nRequirement already satisfied: requests in /opt/conda/envs/Python-3.7-main/lib/python3.7/site-packages (from pgeocode) (2.24.0)\nRequirement already satisfied: python-dateutil>=2.6.1 in /opt/conda/envs/Python-3.7-main/lib/python3.7/site-packages (from pandas->pgeocode) (2.8.1)\nRequirement already satisfied: pytz>=2017.2 in /opt/conda/envs/Python-3.7-main/lib/python3.7/site-packages (from pandas->pgeocode) (2020.1)\nRequirement already satisfied: idna<3,>=2.5 in /opt/conda/envs/Python-3.7-main/lib/python3.7/site-packages (from requests->pgeocode) (2.9)\nRequirement already satisfied: urllib3!=1.25.0,!=1.25.1,<1.26,>=1.21.1 in /opt/conda/envs/Python-3.7-main/lib/python3.7/site-packages (from requests->pgeocode) (1.25.9)\nRequirement already satisfied: certifi>=2017.4.17 in /opt/conda/envs/Python-3.7-main/lib/python3.7/site-packages (from requests->pgeocode) (2021.5.30)\nRequirement already satisfied: chardet<4,>=3.0.2 in /opt/conda/envs/Python-3.7-main/lib/python3.7/site-packages (from requests->pgeocode) (3.0.4)\nRequirement already satisfied: six>=1.5 in /opt/conda/envs/Python-3.7-main/lib/python3.7/site-packages (from python-dateutil>=2.6.1->pandas->pgeocode) (1.15.0)\n",
                    "name": "stdout"
                }
            ]
        },
        {
            "metadata": {},
            "cell_type": "code",
            "source": "# importing necessary libraries\nimport numpy as np\nimport pandas as pd\nfrom urllib.request import urlopen\nfrom bs4 import BeautifulSoup\nimport pgeocode\nprint(\"Libraries imported.\")",
            "execution_count": 2,
            "outputs": [
                {
                    "output_type": "stream",
                    "text": "Libraries imported.\n",
                    "name": "stdout"
                }
            ]
        },
        {
            "metadata": {},
            "cell_type": "code",
            "source": "#get Toronto neighborhood data on Wikipedia\nurl = 'https://en.wikipedia.org/wiki/List_of_postal_codes_of_Canada:_M'\npage = urlopen(url)\nhtml = page.read().decode(\"utf-8\")\nsoup = BeautifulSoup(html, \"html.parser\")",
            "execution_count": 3,
            "outputs": []
        },
        {
            "metadata": {},
            "cell_type": "code",
            "source": "#get postal code table from html\ntable_content = []\ntable = soup.find('table')\nfor row in table.findAll('td'):\n    #print(row)\n    cell = {}\n    #print(row.span.text)\n    #Drop postal codes that have no assigned neighborhoods\n    if row.span.text == 'Not assigned':\n        pass\n    else:\n        cell['PostalCode'] = row.p.text[:3]\n        cell['Borough'] = (row.span.text).split('(')[0]\n        rawNeighborh = (row.span.text).split('(')[1]\n        #print(rawNeighborh)\n        cell['Neighborhood'] = rawNeighborh.strip(')').replace('/',',').replace(')',',').strip(' ')\n        table_content.append(cell)\n        \n#print(table_content)",
            "execution_count": 4,
            "outputs": []
        },
        {
            "metadata": {},
            "cell_type": "code",
            "source": "#Create dataframe\ntoronto_df = pd.DataFrame(table_content)\ntoronto_df",
            "execution_count": 5,
            "outputs": [
                {
                    "output_type": "execute_result",
                    "execution_count": 5,
                    "data": {
                        "text/plain": "    PostalCode                                            Borough  \\\n0          M3A                                         North York   \n1          M4A                                         North York   \n2          M5A                                   Downtown Toronto   \n3          M6A                                         North York   \n4          M7A                                       Queen's Park   \n..         ...                                                ...   \n98         M8X                                          Etobicoke   \n99         M4Y                                   Downtown Toronto   \n100        M7Y  East TorontoBusiness reply mail Processing Cen...   \n101        M8Y                                          Etobicoke   \n102        M8Z                                          Etobicoke   \n\n                                          Neighborhood  \n0                                            Parkwoods  \n1                                     Victoria Village  \n2                           Regent Park , Harbourfront  \n3                    Lawrence Manor , Lawrence Heights  \n4                        Ontario Provincial Government  \n..                                                 ...  \n98     The Kingsway , Montgomery Road , Old Mill North  \n99                                Church and Wellesley  \n100                                     Enclave of M4L  \n101  Old Mill South , King's Mill Park , Sunnylea ,...  \n102  Mimico NW , The Queensway West , South of Bloo...  \n\n[103 rows x 3 columns]",
                        "text/html": "<div>\n<style scoped>\n    .dataframe tbody tr th:only-of-type {\n        vertical-align: middle;\n    }\n\n    .dataframe tbody tr th {\n        vertical-align: top;\n    }\n\n    .dataframe thead th {\n        text-align: right;\n    }\n</style>\n<table border=\"1\" class=\"dataframe\">\n  <thead>\n    <tr style=\"text-align: right;\">\n      <th></th>\n      <th>PostalCode</th>\n      <th>Borough</th>\n      <th>Neighborhood</th>\n    </tr>\n  </thead>\n  <tbody>\n    <tr>\n      <th>0</th>\n      <td>M3A</td>\n      <td>North York</td>\n      <td>Parkwoods</td>\n    </tr>\n    <tr>\n      <th>1</th>\n      <td>M4A</td>\n      <td>North York</td>\n      <td>Victoria Village</td>\n    </tr>\n    <tr>\n      <th>2</th>\n      <td>M5A</td>\n      <td>Downtown Toronto</td>\n      <td>Regent Park , Harbourfront</td>\n    </tr>\n    <tr>\n      <th>3</th>\n      <td>M6A</td>\n      <td>North York</td>\n      <td>Lawrence Manor , Lawrence Heights</td>\n    </tr>\n    <tr>\n      <th>4</th>\n      <td>M7A</td>\n      <td>Queen's Park</td>\n      <td>Ontario Provincial Government</td>\n    </tr>\n    <tr>\n      <th>...</th>\n      <td>...</td>\n      <td>...</td>\n      <td>...</td>\n    </tr>\n    <tr>\n      <th>98</th>\n      <td>M8X</td>\n      <td>Etobicoke</td>\n      <td>The Kingsway , Montgomery Road , Old Mill North</td>\n    </tr>\n    <tr>\n      <th>99</th>\n      <td>M4Y</td>\n      <td>Downtown Toronto</td>\n      <td>Church and Wellesley</td>\n    </tr>\n    <tr>\n      <th>100</th>\n      <td>M7Y</td>\n      <td>East TorontoBusiness reply mail Processing Cen...</td>\n      <td>Enclave of M4L</td>\n    </tr>\n    <tr>\n      <th>101</th>\n      <td>M8Y</td>\n      <td>Etobicoke</td>\n      <td>Old Mill South , King's Mill Park , Sunnylea ,...</td>\n    </tr>\n    <tr>\n      <th>102</th>\n      <td>M8Z</td>\n      <td>Etobicoke</td>\n      <td>Mimico NW , The Queensway West , South of Bloo...</td>\n    </tr>\n  </tbody>\n</table>\n<p>103 rows \u00d7 3 columns</p>\n</div>"
                    },
                    "metadata": {}
                }
            ]
        },
        {
            "metadata": {},
            "cell_type": "code",
            "source": "#Clean up Borough data\ntoronto_df['Borough'] = toronto_df['Borough'].replace({'Downtown TorontoStn A PO Boxes25 The Esplanade':'Downtown Toronto Stn A',\n                                             'East TorontoBusiness reply mail Processing Centre969 Eastern':'East Toronto Business',\n                                             'EtobicokeNorthwest':'Etobicoke Northwest','East YorkEast Toronto':'East York/East Toronto',\n                                             'MississaugaCanada Post Gateway Processing Centre':'Mississauga'})\ntoronto_df",
            "execution_count": 6,
            "outputs": [
                {
                    "output_type": "execute_result",
                    "execution_count": 6,
                    "data": {
                        "text/plain": "    PostalCode                Borough  \\\n0          M3A             North York   \n1          M4A             North York   \n2          M5A       Downtown Toronto   \n3          M6A             North York   \n4          M7A           Queen's Park   \n..         ...                    ...   \n98         M8X              Etobicoke   \n99         M4Y       Downtown Toronto   \n100        M7Y  East Toronto Business   \n101        M8Y              Etobicoke   \n102        M8Z              Etobicoke   \n\n                                          Neighborhood  \n0                                            Parkwoods  \n1                                     Victoria Village  \n2                           Regent Park , Harbourfront  \n3                    Lawrence Manor , Lawrence Heights  \n4                        Ontario Provincial Government  \n..                                                 ...  \n98     The Kingsway , Montgomery Road , Old Mill North  \n99                                Church and Wellesley  \n100                                     Enclave of M4L  \n101  Old Mill South , King's Mill Park , Sunnylea ,...  \n102  Mimico NW , The Queensway West , South of Bloo...  \n\n[103 rows x 3 columns]",
                        "text/html": "<div>\n<style scoped>\n    .dataframe tbody tr th:only-of-type {\n        vertical-align: middle;\n    }\n\n    .dataframe tbody tr th {\n        vertical-align: top;\n    }\n\n    .dataframe thead th {\n        text-align: right;\n    }\n</style>\n<table border=\"1\" class=\"dataframe\">\n  <thead>\n    <tr style=\"text-align: right;\">\n      <th></th>\n      <th>PostalCode</th>\n      <th>Borough</th>\n      <th>Neighborhood</th>\n    </tr>\n  </thead>\n  <tbody>\n    <tr>\n      <th>0</th>\n      <td>M3A</td>\n      <td>North York</td>\n      <td>Parkwoods</td>\n    </tr>\n    <tr>\n      <th>1</th>\n      <td>M4A</td>\n      <td>North York</td>\n      <td>Victoria Village</td>\n    </tr>\n    <tr>\n      <th>2</th>\n      <td>M5A</td>\n      <td>Downtown Toronto</td>\n      <td>Regent Park , Harbourfront</td>\n    </tr>\n    <tr>\n      <th>3</th>\n      <td>M6A</td>\n      <td>North York</td>\n      <td>Lawrence Manor , Lawrence Heights</td>\n    </tr>\n    <tr>\n      <th>4</th>\n      <td>M7A</td>\n      <td>Queen's Park</td>\n      <td>Ontario Provincial Government</td>\n    </tr>\n    <tr>\n      <th>...</th>\n      <td>...</td>\n      <td>...</td>\n      <td>...</td>\n    </tr>\n    <tr>\n      <th>98</th>\n      <td>M8X</td>\n      <td>Etobicoke</td>\n      <td>The Kingsway , Montgomery Road , Old Mill North</td>\n    </tr>\n    <tr>\n      <th>99</th>\n      <td>M4Y</td>\n      <td>Downtown Toronto</td>\n      <td>Church and Wellesley</td>\n    </tr>\n    <tr>\n      <th>100</th>\n      <td>M7Y</td>\n      <td>East Toronto Business</td>\n      <td>Enclave of M4L</td>\n    </tr>\n    <tr>\n      <th>101</th>\n      <td>M8Y</td>\n      <td>Etobicoke</td>\n      <td>Old Mill South , King's Mill Park , Sunnylea ,...</td>\n    </tr>\n    <tr>\n      <th>102</th>\n      <td>M8Z</td>\n      <td>Etobicoke</td>\n      <td>Mimico NW , The Queensway West , South of Bloo...</td>\n    </tr>\n  </tbody>\n</table>\n<p>103 rows \u00d7 3 columns</p>\n</div>"
                    },
                    "metadata": {}
                }
            ]
        },
        {
            "metadata": {},
            "cell_type": "code",
            "source": "#Get data dimentions\ntoronto_df.shape",
            "execution_count": 7,
            "outputs": [
                {
                    "output_type": "execute_result",
                    "execution_count": 7,
                    "data": {
                        "text/plain": "(103, 3)"
                    },
                    "metadata": {}
                }
            ]
        },
        {
            "metadata": {},
            "cell_type": "code",
            "source": "#Get gecoordinates\ngeolocator = pgeocode.Nominatim('ca')\n\nfor cell in zip(toronto_df['PostalCode']):\n    postal_code = cell[0]\n    location = geolocator.query_postal_code(postal_code)\n    #print(postal_code, location.latitude, location.longitude)\n    toronto_df.loc[toronto_df['PostalCode'] == postal_code, \"Latitude\"] = location.latitude\n    toronto_df.loc[toronto_df['PostalCode'] == postal_code, \"Longitude\"] = location.longitude\n\ntoronto_df.head(10)",
            "execution_count": 8,
            "outputs": [
                {
                    "output_type": "execute_result",
                    "execution_count": 8,
                    "data": {
                        "text/plain": "  PostalCode           Borough                       Neighborhood  Latitude  \\\n0        M3A        North York                          Parkwoods   43.7545   \n1        M4A        North York                   Victoria Village   43.7276   \n2        M5A  Downtown Toronto         Regent Park , Harbourfront   43.6555   \n3        M6A        North York  Lawrence Manor , Lawrence Heights   43.7223   \n4        M7A      Queen's Park      Ontario Provincial Government   43.6641   \n5        M9A         Etobicoke                   Islington Avenue   43.6662   \n6        M1B       Scarborough                    Malvern , Rouge   43.8113   \n7        M3B        North York                    Don Mills,North   43.7450   \n8        M4B         East York   Parkview Hill , Woodbine Gardens   43.7063   \n9        M5B  Downtown Toronto           Garden District, Ryerson   43.6572   \n\n   Longitude  \n0   -79.3300  \n1   -79.3148  \n2   -79.3626  \n3   -79.4504  \n4   -79.3889  \n5   -79.5282  \n6   -79.1930  \n7   -79.3590  \n8   -79.3094  \n9   -79.3783  ",
                        "text/html": "<div>\n<style scoped>\n    .dataframe tbody tr th:only-of-type {\n        vertical-align: middle;\n    }\n\n    .dataframe tbody tr th {\n        vertical-align: top;\n    }\n\n    .dataframe thead th {\n        text-align: right;\n    }\n</style>\n<table border=\"1\" class=\"dataframe\">\n  <thead>\n    <tr style=\"text-align: right;\">\n      <th></th>\n      <th>PostalCode</th>\n      <th>Borough</th>\n      <th>Neighborhood</th>\n      <th>Latitude</th>\n      <th>Longitude</th>\n    </tr>\n  </thead>\n  <tbody>\n    <tr>\n      <th>0</th>\n      <td>M3A</td>\n      <td>North York</td>\n      <td>Parkwoods</td>\n      <td>43.7545</td>\n      <td>-79.3300</td>\n    </tr>\n    <tr>\n      <th>1</th>\n      <td>M4A</td>\n      <td>North York</td>\n      <td>Victoria Village</td>\n      <td>43.7276</td>\n      <td>-79.3148</td>\n    </tr>\n    <tr>\n      <th>2</th>\n      <td>M5A</td>\n      <td>Downtown Toronto</td>\n      <td>Regent Park , Harbourfront</td>\n      <td>43.6555</td>\n      <td>-79.3626</td>\n    </tr>\n    <tr>\n      <th>3</th>\n      <td>M6A</td>\n      <td>North York</td>\n      <td>Lawrence Manor , Lawrence Heights</td>\n      <td>43.7223</td>\n      <td>-79.4504</td>\n    </tr>\n    <tr>\n      <th>4</th>\n      <td>M7A</td>\n      <td>Queen's Park</td>\n      <td>Ontario Provincial Government</td>\n      <td>43.6641</td>\n      <td>-79.3889</td>\n    </tr>\n    <tr>\n      <th>5</th>\n      <td>M9A</td>\n      <td>Etobicoke</td>\n      <td>Islington Avenue</td>\n      <td>43.6662</td>\n      <td>-79.5282</td>\n    </tr>\n    <tr>\n      <th>6</th>\n      <td>M1B</td>\n      <td>Scarborough</td>\n      <td>Malvern , Rouge</td>\n      <td>43.8113</td>\n      <td>-79.1930</td>\n    </tr>\n    <tr>\n      <th>7</th>\n      <td>M3B</td>\n      <td>North York</td>\n      <td>Don Mills,North</td>\n      <td>43.7450</td>\n      <td>-79.3590</td>\n    </tr>\n    <tr>\n      <th>8</th>\n      <td>M4B</td>\n      <td>East York</td>\n      <td>Parkview Hill , Woodbine Gardens</td>\n      <td>43.7063</td>\n      <td>-79.3094</td>\n    </tr>\n    <tr>\n      <th>9</th>\n      <td>M5B</td>\n      <td>Downtown Toronto</td>\n      <td>Garden District, Ryerson</td>\n      <td>43.6572</td>\n      <td>-79.3783</td>\n    </tr>\n  </tbody>\n</table>\n</div>"
                    },
                    "metadata": {}
                }
            ]
        },
        {
            "metadata": {},
            "cell_type": "code",
            "source": "",
            "execution_count": null,
            "outputs": []
        }
    ],
    "metadata": {
        "kernelspec": {
            "name": "python3",
            "display_name": "Python 3.7",
            "language": "python"
        },
        "language_info": {
            "name": "python",
            "version": "3.7.10",
            "mimetype": "text/x-python",
            "codemirror_mode": {
                "name": "ipython",
                "version": 3
            },
            "pygments_lexer": "ipython3",
            "nbconvert_exporter": "python",
            "file_extension": ".py"
        }
    },
    "nbformat": 4,
    "nbformat_minor": 1
}